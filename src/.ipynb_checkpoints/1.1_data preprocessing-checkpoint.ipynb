{
 "cells": [
  {
   "cell_type": "markdown",
   "id": "b6303cef",
   "metadata": {},
   "source": [
    "# Data Preprocessing"
   ]
  },
  {
   "cell_type": "code",
   "execution_count": null,
   "id": "80555ae3",
   "metadata": {},
   "outputs": [],
   "source": [
    "from os import path\n",
    "import numpy as np\n",
    "import pandas as pd\n",
    "import matplotlib.pyplot as plt\n",
    "import seaborn as sns"
   ]
  },
  {
   "cell_type": "code",
   "execution_count": null,
   "id": "96acf1b2",
   "metadata": {},
   "outputs": [],
   "source": [
    "sns.set()"
   ]
  },
  {
   "cell_type": "markdown",
   "id": "07f857f3",
   "metadata": {},
   "source": [
    "## Load Data Files"
   ]
  },
  {
   "cell_type": "code",
   "execution_count": null,
   "id": "cbc347cb",
   "metadata": {},
   "outputs": [],
   "source": [
    "data_path = \"../wechat_algo_data1/\"\n",
    "output_path = \"../predictions/\""
   ]
  },
  {
   "cell_type": "code",
   "execution_count": null,
   "id": "4ff27012",
   "metadata": {},
   "outputs": [],
   "source": [
    "# Training input data\n",
    "feed_info = pd.read_csv(path.join(data_path, 'feed_info.csv'))\n",
    "user_action = pd.read_csv(path.join(data_path, 'user_action.csv'))"
   ]
  },
  {
   "cell_type": "code",
   "execution_count": null,
   "id": "9ef4108a",
   "metadata": {},
   "outputs": [],
   "source": [
    "# Test data\n",
    "# testing_datafile = 'test_a.csv'   # Practice dataset\n",
    "testing_datafile = 'test_b.csv'   # Actual dataset\n",
    "test_data = pd.read_csv(path.join(data_path, testing_datafile))"
   ]
  },
  {
   "cell_type": "code",
   "execution_count": null,
   "id": "f6c7e7d8",
   "metadata": {},
   "outputs": [],
   "source": [
    "print(\"len(feed_info) = %d\\nlen(user_action) = %d\\nlen(test_data) = %d\" \\\n",
    "      % (len(feed_info), len(user_action), len(test_data)))"
   ]
  },
  {
   "cell_type": "markdown",
   "id": "5b9fc140",
   "metadata": {},
   "source": [
    "## Data Cleaning"
   ]
  },
  {
   "cell_type": "markdown",
   "id": "36a9ef50",
   "metadata": {},
   "source": [
    "### Impute Missing Values for 'bgm_song_id' and 'bgm_singer_id'"
   ]
  },
  {
   "cell_type": "code",
   "execution_count": null,
   "id": "11c0ec53",
   "metadata": {},
   "outputs": [],
   "source": [
    "# The strategy here is to replace all the NaNs by random samples from\n",
    "# the set of non-NaN 'bgm_song_id' and 'bgm_singer_id'\n",
    "NaN_bgm_idx = feed_info[(feed_info['bgm_song_id'].isna()) | (feed_info['bgm_singer_id'].isna())].index\n",
    "notNaN_bgm = feed_info[(~feed_info['bgm_song_id'].isna()) & (~feed_info['bgm_singer_id'].isna())]\n",
    "notNaN_bgm = notNaN_bgm[['bgm_song_id', 'bgm_singer_id']]\n",
    "imputed_bgm = notNaN_bgm.sample(len(feed_info) - len(notNaN_bgm))\n",
    "feed_info.loc[NaN_bgm_idx, 'bgm_song_id'] = imputed_bgm['bgm_song_id'].values\n",
    "feed_info.loc[NaN_bgm_idx, 'bgm_singer_id'] = imputed_bgm['bgm_singer_id'].values"
   ]
  },
  {
   "cell_type": "code",
   "execution_count": null,
   "id": "cc6e2297",
   "metadata": {},
   "outputs": [],
   "source": [
    "plt.hist(feed_info['bgm_song_id']);"
   ]
  },
  {
   "cell_type": "code",
   "execution_count": null,
   "id": "4d8291fc",
   "metadata": {},
   "outputs": [],
   "source": [
    "plt.hist(feed_info['bgm_singer_id']);"
   ]
  },
  {
   "cell_type": "markdown",
   "id": "ac68a184",
   "metadata": {},
   "source": [
    "### Merging Datasets"
   ]
  },
  {
   "cell_type": "code",
   "execution_count": null,
   "id": "6d315e25",
   "metadata": {},
   "outputs": [],
   "source": [
    "# Feature selection\n",
    "feed_info = feed_info[[\n",
    "    'feedid', \n",
    "    'authorid', \n",
    "    'videoplayseconds', \n",
    "    'bgm_song_id', \n",
    "    'bgm_singer_id'\n",
    "]]\n",
    "user_action = user_action[[\n",
    "    'userid', 'feedid', 'date_', 'device', 'play', 'stay', \n",
    "    # 'comment', 'follow', 'favorite',  \n",
    "    'read_comment', 'like', 'click_avatar', 'forward'\n",
    "]]"
   ]
  },
  {
   "cell_type": "code",
   "execution_count": null,
   "id": "6cb24fa3",
   "metadata": {},
   "outputs": [],
   "source": [
    "# Training data\n",
    "merged_data = user_action.merge(feed_info, on = ['feedid'])\n",
    "# sort records by date\n",
    "merged_data = merged_data.sort_values('date_').reset_index(drop = True)\n",
    "merged_data.head()"
   ]
  },
  {
   "cell_type": "code",
   "execution_count": null,
   "id": "5cefc8e5",
   "metadata": {},
   "outputs": [],
   "source": [
    "# Testing data\n",
    "X_test = test_data.merge(feed_info, on = ['feedid'])\n",
    "X_test.head()"
   ]
  },
  {
   "cell_type": "markdown",
   "id": "fe9ac2f4",
   "metadata": {},
   "source": [
    "### Predict Values of 'play' and 'stay' for Testing Dataset"
   ]
  },
  {
   "cell_type": "markdown",
   "id": "c9bc8804",
   "metadata": {},
   "source": [
    "To make use of the 'play' and 'stay' attributes in the training dataset, we need to impute the values for these two features in the testing dataset. The strategy here is to turn it into a regression problem."
   ]
  },
  {
   "cell_type": "code",
   "execution_count": null,
   "id": "beed0e03",
   "metadata": {},
   "outputs": [],
   "source": [
    "from sklearn.multioutput import MultiOutputRegressor\n",
    "from sklearn.ensemble import GradientBoostingRegressor\n",
    "import xgboost as xgb"
   ]
  },
  {
   "cell_type": "code",
   "execution_count": null,
   "id": "02f535f6",
   "metadata": {},
   "outputs": [],
   "source": [
    "X_play_stay = merged_data[X_test.columns.tolist()]\n",
    "y_play_stay = merged_data[['play', 'stay']]"
   ]
  },
  {
   "cell_type": "code",
   "execution_count": null,
   "id": "85927d9c",
   "metadata": {},
   "outputs": [],
   "source": [
    "# model = MultiOutputRegressor(GradientBoostingRegressor(\n",
    "#     n_estimators = 600, \n",
    "#     subsample = 0.95, \n",
    "#     max_depth = 11, \n",
    "#     tol = 1e-5, \n",
    "#     warm_start = True\n",
    "# ), n_jobs = -1)"
   ]
  },
  {
   "cell_type": "code",
   "execution_count": null,
   "id": "5e228f3f",
   "metadata": {},
   "outputs": [],
   "source": [
    "model = MultiOutputRegressor(xgb.XGBRegressor(\n",
    "    n_estimators = 1500, \n",
    "    max_depth = 12, \n",
    "    learning_rate = 0.1, \n",
    "    subsample = 0.95, \n",
    "    colsample_bytree = 0.95, \n",
    "    tree_method = 'gpu_hist', \n",
    "    n_jobs = -1\n",
    "), n_jobs = -1)"
   ]
  },
  {
   "cell_type": "code",
   "execution_count": null,
   "id": "d3332ef0",
   "metadata": {},
   "outputs": [],
   "source": [
    "%time model.fit(X_play_stay, y_play_stay)"
   ]
  },
  {
   "cell_type": "code",
   "execution_count": null,
   "id": "2a48a561",
   "metadata": {},
   "outputs": [],
   "source": [
    "model.score(X_play_stay, y_play_stay)"
   ]
  },
  {
   "cell_type": "code",
   "execution_count": null,
   "id": "1e6fa800",
   "metadata": {},
   "outputs": [],
   "source": [
    "play_stay_predicted = pd.DataFrame(\n",
    "    model.predict(X_test), \n",
    "    columns = ['play', 'stay']\n",
    ")\n",
    "play_stay_predicted = play_stay_predicted.astype(int)\n",
    "play_stay_predicted"
   ]
  },
  {
   "cell_type": "code",
   "execution_count": null,
   "id": "9e0453f7",
   "metadata": {},
   "outputs": [],
   "source": [
    "X_test = pd.concat([X_test, play_stay_predicted], axis = 1)"
   ]
  },
  {
   "cell_type": "markdown",
   "id": "99290abd",
   "metadata": {},
   "source": [
    "## Generate Training and Testing Datasets"
   ]
  },
  {
   "cell_type": "code",
   "execution_count": null,
   "id": "792df1ee",
   "metadata": {},
   "outputs": [],
   "source": [
    "X_train = merged_data.drop(columns = ['date_', 'read_comment', 'like', 'click_avatar', 'forward'])\n",
    "y_train = merged_data[['read_comment', 'like', 'click_avatar', 'forward']]\n",
    "X_train"
   ]
  },
  {
   "cell_type": "code",
   "execution_count": null,
   "id": "d3df8eb3",
   "metadata": {},
   "outputs": [],
   "source": [
    "# Important!!\n",
    "# Make sure the order of features in the testing dataset is consistent \n",
    "# with that in the training dataset\n",
    "X_test = X_test[X_train.columns.tolist()]\n",
    "X_test"
   ]
  },
  {
   "cell_type": "code",
   "execution_count": null,
   "id": "211ee282",
   "metadata": {},
   "outputs": [],
   "source": [
    "# Save datasets\n",
    "X_train.to_csv(path.join(data_path, '1.1_X_train.csv'), index = False)\n",
    "y_train.to_csv(path.join(data_path, '1.1_y_train.csv'), index = False)\n",
    "X_test.to_csv(path.join(data_path, '1.1_X_test.csv'), index = False)"
   ]
  }
 ],
 "metadata": {
  "kernelspec": {
   "display_name": "Python 3",
   "language": "python",
   "name": "python3"
  },
  "language_info": {
   "codemirror_mode": {
    "name": "ipython",
    "version": 3
   },
   "file_extension": ".py",
   "mimetype": "text/x-python",
   "name": "python",
   "nbconvert_exporter": "python",
   "pygments_lexer": "ipython3",
   "version": "3.9.5"
  }
 },
 "nbformat": 4,
 "nbformat_minor": 5
}
