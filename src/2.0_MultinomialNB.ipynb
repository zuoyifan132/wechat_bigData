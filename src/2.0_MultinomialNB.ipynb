{
 "cells": [
  {
   "cell_type": "markdown",
   "id": "06aa1ea8",
   "metadata": {},
   "source": [
    "# MultinomialNB Classifier"
   ]
  },
  {
   "cell_type": "code",
   "execution_count": 1,
   "id": "32ee99b0",
   "metadata": {},
   "outputs": [],
   "source": [
    "import numpy as np\n",
    "import pandas as pd"
   ]
  },
  {
   "cell_type": "markdown",
   "id": "0af32ecd",
   "metadata": {},
   "source": [
    "## Load Data Files"
   ]
  },
  {
   "cell_type": "code",
   "execution_count": 2,
   "id": "01c79939",
   "metadata": {},
   "outputs": [],
   "source": [
    "X_train = pd.read_csv('../wechat_algo_data1/1.1_X_train.csv')\n",
    "y_train = pd.read_csv('../wechat_algo_data1/1.1_y_train.csv')\n",
    "X_test = pd.read_csv('../wechat_algo_data1/1.1_X_test.csv')"
   ]
  },
  {
   "cell_type": "markdown",
   "id": "255d35db",
   "metadata": {},
   "source": [
    "## Train Model"
   ]
  },
  {
   "cell_type": "code",
   "execution_count": 3,
   "id": "5a66c3e8",
   "metadata": {},
   "outputs": [],
   "source": [
    "from sklearn.multioutput import MultiOutputClassifier\n",
    "from sklearn.naive_bayes import MultinomialNB"
   ]
  },
  {
   "cell_type": "code",
   "execution_count": 4,
   "id": "3f862622",
   "metadata": {},
   "outputs": [],
   "source": [
    "model = MultiOutputClassifier(MultinomialNB(), n_jobs = -1)"
   ]
  },
  {
   "cell_type": "code",
   "execution_count": 5,
   "id": "5cd9c422",
   "metadata": {},
   "outputs": [
    {
     "name": "stdout",
     "output_type": "stream",
     "text": [
      "Wall time: 13 s\n"
     ]
    },
    {
     "data": {
      "text/plain": [
       "MultiOutputClassifier(estimator=MultinomialNB(), n_jobs=-1)"
      ]
     },
     "execution_count": 5,
     "metadata": {},
     "output_type": "execute_result"
    }
   ],
   "source": [
    "%time model.fit(X_train, y_train)"
   ]
  },
  {
   "cell_type": "code",
   "execution_count": 6,
   "id": "86e281f4",
   "metadata": {},
   "outputs": [
    {
     "data": {
      "text/plain": [
       "0.6243121985295745"
      ]
     },
     "execution_count": 6,
     "metadata": {},
     "output_type": "execute_result"
    }
   ],
   "source": [
    "model.score(X_train, y_train)"
   ]
  },
  {
   "cell_type": "markdown",
   "id": "759bf913",
   "metadata": {},
   "source": [
    "## Make Predictions"
   ]
  },
  {
   "cell_type": "code",
   "execution_count": 7,
   "id": "fa9bf496",
   "metadata": {},
   "outputs": [],
   "source": [
    "y_test = model.predict(X_test)"
   ]
  },
  {
   "cell_type": "code",
   "execution_count": 8,
   "id": "56926529",
   "metadata": {},
   "outputs": [
    {
     "data": {
      "text/html": [
       "<div>\n",
       "<style scoped>\n",
       "    .dataframe tbody tr th:only-of-type {\n",
       "        vertical-align: middle;\n",
       "    }\n",
       "\n",
       "    .dataframe tbody tr th {\n",
       "        vertical-align: top;\n",
       "    }\n",
       "\n",
       "    .dataframe thead th {\n",
       "        text-align: right;\n",
       "    }\n",
       "</style>\n",
       "<table border=\"1\" class=\"dataframe\">\n",
       "  <thead>\n",
       "    <tr style=\"text-align: right;\">\n",
       "      <th></th>\n",
       "      <th>userid</th>\n",
       "      <th>feedid</th>\n",
       "      <th>read_comment</th>\n",
       "      <th>like</th>\n",
       "      <th>click_avatar</th>\n",
       "      <th>forward</th>\n",
       "    </tr>\n",
       "  </thead>\n",
       "  <tbody>\n",
       "    <tr>\n",
       "      <th>0</th>\n",
       "      <td>116490</td>\n",
       "      <td>18545</td>\n",
       "      <td>1</td>\n",
       "      <td>1</td>\n",
       "      <td>1</td>\n",
       "      <td>1</td>\n",
       "    </tr>\n",
       "    <tr>\n",
       "      <th>1</th>\n",
       "      <td>229006</td>\n",
       "      <td>18545</td>\n",
       "      <td>1</td>\n",
       "      <td>1</td>\n",
       "      <td>1</td>\n",
       "      <td>1</td>\n",
       "    </tr>\n",
       "    <tr>\n",
       "      <th>2</th>\n",
       "      <td>17099</td>\n",
       "      <td>18545</td>\n",
       "      <td>1</td>\n",
       "      <td>1</td>\n",
       "      <td>1</td>\n",
       "      <td>1</td>\n",
       "    </tr>\n",
       "    <tr>\n",
       "      <th>3</th>\n",
       "      <td>229660</td>\n",
       "      <td>18545</td>\n",
       "      <td>1</td>\n",
       "      <td>1</td>\n",
       "      <td>1</td>\n",
       "      <td>1</td>\n",
       "    </tr>\n",
       "    <tr>\n",
       "      <th>4</th>\n",
       "      <td>176548</td>\n",
       "      <td>18545</td>\n",
       "      <td>1</td>\n",
       "      <td>1</td>\n",
       "      <td>1</td>\n",
       "      <td>1</td>\n",
       "    </tr>\n",
       "    <tr>\n",
       "      <th>...</th>\n",
       "      <td>...</td>\n",
       "      <td>...</td>\n",
       "      <td>...</td>\n",
       "      <td>...</td>\n",
       "      <td>...</td>\n",
       "      <td>...</td>\n",
       "    </tr>\n",
       "    <tr>\n",
       "      <th>419641</th>\n",
       "      <td>136289</td>\n",
       "      <td>32838</td>\n",
       "      <td>0</td>\n",
       "      <td>0</td>\n",
       "      <td>0</td>\n",
       "      <td>0</td>\n",
       "    </tr>\n",
       "    <tr>\n",
       "      <th>419642</th>\n",
       "      <td>27818</td>\n",
       "      <td>55309</td>\n",
       "      <td>1</td>\n",
       "      <td>1</td>\n",
       "      <td>1</td>\n",
       "      <td>1</td>\n",
       "    </tr>\n",
       "    <tr>\n",
       "      <th>419643</th>\n",
       "      <td>59066</td>\n",
       "      <td>97704</td>\n",
       "      <td>1</td>\n",
       "      <td>1</td>\n",
       "      <td>1</td>\n",
       "      <td>1</td>\n",
       "    </tr>\n",
       "    <tr>\n",
       "      <th>419644</th>\n",
       "      <td>94658</td>\n",
       "      <td>75442</td>\n",
       "      <td>1</td>\n",
       "      <td>1</td>\n",
       "      <td>1</td>\n",
       "      <td>1</td>\n",
       "    </tr>\n",
       "    <tr>\n",
       "      <th>419645</th>\n",
       "      <td>115694</td>\n",
       "      <td>55597</td>\n",
       "      <td>0</td>\n",
       "      <td>0</td>\n",
       "      <td>0</td>\n",
       "      <td>0</td>\n",
       "    </tr>\n",
       "  </tbody>\n",
       "</table>\n",
       "<p>419646 rows × 6 columns</p>\n",
       "</div>"
      ],
      "text/plain": [
       "        userid  feedid  read_comment  like  click_avatar  forward\n",
       "0       116490   18545             1     1             1        1\n",
       "1       229006   18545             1     1             1        1\n",
       "2        17099   18545             1     1             1        1\n",
       "3       229660   18545             1     1             1        1\n",
       "4       176548   18545             1     1             1        1\n",
       "...        ...     ...           ...   ...           ...      ...\n",
       "419641  136289   32838             0     0             0        0\n",
       "419642   27818   55309             1     1             1        1\n",
       "419643   59066   97704             1     1             1        1\n",
       "419644   94658   75442             1     1             1        1\n",
       "419645  115694   55597             0     0             0        0\n",
       "\n",
       "[419646 rows x 6 columns]"
      ]
     },
     "execution_count": 8,
     "metadata": {},
     "output_type": "execute_result"
    }
   ],
   "source": [
    "y_test = pd.DataFrame(\n",
    "    y_test, \n",
    "    columns = ['read_comment', 'like', 'click_avatar', 'forward']\n",
    ")\n",
    "output_data = pd.concat([X_test[['userid', 'feedid']], y_test], axis = 1)\n",
    "output_data"
   ]
  },
  {
   "cell_type": "code",
   "execution_count": 9,
   "id": "f529e3e5",
   "metadata": {},
   "outputs": [],
   "source": [
    "# Predict probabilities\n",
    "probabilities = model.predict_proba(X_test)"
   ]
  },
  {
   "cell_type": "code",
   "execution_count": 10,
   "id": "c1654466",
   "metadata": {},
   "outputs": [
    {
     "data": {
      "text/html": [
       "<div>\n",
       "<style scoped>\n",
       "    .dataframe tbody tr th:only-of-type {\n",
       "        vertical-align: middle;\n",
       "    }\n",
       "\n",
       "    .dataframe tbody tr th {\n",
       "        vertical-align: top;\n",
       "    }\n",
       "\n",
       "    .dataframe thead th {\n",
       "        text-align: right;\n",
       "    }\n",
       "</style>\n",
       "<table border=\"1\" class=\"dataframe\">\n",
       "  <thead>\n",
       "    <tr style=\"text-align: right;\">\n",
       "      <th></th>\n",
       "      <th>userid</th>\n",
       "      <th>feedid</th>\n",
       "      <th>read_comment</th>\n",
       "      <th>like</th>\n",
       "      <th>click_avatar</th>\n",
       "      <th>forward</th>\n",
       "    </tr>\n",
       "  </thead>\n",
       "  <tbody>\n",
       "    <tr>\n",
       "      <th>0</th>\n",
       "      <td>116490</td>\n",
       "      <td>18545</td>\n",
       "      <td>1.0</td>\n",
       "      <td>1.0</td>\n",
       "      <td>1.0</td>\n",
       "      <td>1.0</td>\n",
       "    </tr>\n",
       "    <tr>\n",
       "      <th>1</th>\n",
       "      <td>229006</td>\n",
       "      <td>18545</td>\n",
       "      <td>1.0</td>\n",
       "      <td>1.0</td>\n",
       "      <td>1.0</td>\n",
       "      <td>1.0</td>\n",
       "    </tr>\n",
       "    <tr>\n",
       "      <th>2</th>\n",
       "      <td>17099</td>\n",
       "      <td>18545</td>\n",
       "      <td>1.0</td>\n",
       "      <td>1.0</td>\n",
       "      <td>1.0</td>\n",
       "      <td>1.0</td>\n",
       "    </tr>\n",
       "    <tr>\n",
       "      <th>3</th>\n",
       "      <td>229660</td>\n",
       "      <td>18545</td>\n",
       "      <td>1.0</td>\n",
       "      <td>1.0</td>\n",
       "      <td>1.0</td>\n",
       "      <td>1.0</td>\n",
       "    </tr>\n",
       "    <tr>\n",
       "      <th>4</th>\n",
       "      <td>176548</td>\n",
       "      <td>18545</td>\n",
       "      <td>1.0</td>\n",
       "      <td>1.0</td>\n",
       "      <td>1.0</td>\n",
       "      <td>1.0</td>\n",
       "    </tr>\n",
       "    <tr>\n",
       "      <th>...</th>\n",
       "      <td>...</td>\n",
       "      <td>...</td>\n",
       "      <td>...</td>\n",
       "      <td>...</td>\n",
       "      <td>...</td>\n",
       "      <td>...</td>\n",
       "    </tr>\n",
       "    <tr>\n",
       "      <th>419641</th>\n",
       "      <td>136289</td>\n",
       "      <td>32838</td>\n",
       "      <td>0.0</td>\n",
       "      <td>0.0</td>\n",
       "      <td>0.0</td>\n",
       "      <td>0.0</td>\n",
       "    </tr>\n",
       "    <tr>\n",
       "      <th>419642</th>\n",
       "      <td>27818</td>\n",
       "      <td>55309</td>\n",
       "      <td>1.0</td>\n",
       "      <td>1.0</td>\n",
       "      <td>1.0</td>\n",
       "      <td>1.0</td>\n",
       "    </tr>\n",
       "    <tr>\n",
       "      <th>419643</th>\n",
       "      <td>59066</td>\n",
       "      <td>97704</td>\n",
       "      <td>1.0</td>\n",
       "      <td>1.0</td>\n",
       "      <td>1.0</td>\n",
       "      <td>1.0</td>\n",
       "    </tr>\n",
       "    <tr>\n",
       "      <th>419644</th>\n",
       "      <td>94658</td>\n",
       "      <td>75442</td>\n",
       "      <td>1.0</td>\n",
       "      <td>1.0</td>\n",
       "      <td>1.0</td>\n",
       "      <td>1.0</td>\n",
       "    </tr>\n",
       "    <tr>\n",
       "      <th>419645</th>\n",
       "      <td>115694</td>\n",
       "      <td>55597</td>\n",
       "      <td>0.0</td>\n",
       "      <td>0.0</td>\n",
       "      <td>0.0</td>\n",
       "      <td>0.0</td>\n",
       "    </tr>\n",
       "  </tbody>\n",
       "</table>\n",
       "<p>419646 rows × 6 columns</p>\n",
       "</div>"
      ],
      "text/plain": [
       "        userid  feedid  read_comment  like  click_avatar  forward\n",
       "0       116490   18545           1.0   1.0           1.0      1.0\n",
       "1       229006   18545           1.0   1.0           1.0      1.0\n",
       "2        17099   18545           1.0   1.0           1.0      1.0\n",
       "3       229660   18545           1.0   1.0           1.0      1.0\n",
       "4       176548   18545           1.0   1.0           1.0      1.0\n",
       "...        ...     ...           ...   ...           ...      ...\n",
       "419641  136289   32838           0.0   0.0           0.0      0.0\n",
       "419642   27818   55309           1.0   1.0           1.0      1.0\n",
       "419643   59066   97704           1.0   1.0           1.0      1.0\n",
       "419644   94658   75442           1.0   1.0           1.0      1.0\n",
       "419645  115694   55597           0.0   0.0           0.0      0.0\n",
       "\n",
       "[419646 rows x 6 columns]"
      ]
     },
     "execution_count": 10,
     "metadata": {},
     "output_type": "execute_result"
    }
   ],
   "source": [
    "prob_df = pd.DataFrame(np.array(probabilities)[:, :, 1]).transpose()\n",
    "prob_df.columns = ['read_comment', 'like', 'click_avatar', 'forward']\n",
    "output_data_prob = pd.concat([X_test[['userid', 'feedid']], prob_df], axis = 1)\n",
    "output_data_prob"
   ]
  },
  {
   "cell_type": "markdown",
   "id": "f92f8e8b",
   "metadata": {},
   "source": [
    "## Save Results to Files"
   ]
  },
  {
   "cell_type": "code",
   "execution_count": 11,
   "id": "e7cfd16b",
   "metadata": {},
   "outputs": [],
   "source": [
    "# Save results\n",
    "output_data.to_csv('../predictions/2.0_MultinomialNB_predictions.csv', index = False)\n",
    "output_data_prob.to_csv('../predictions/2.0_MultinomialNB_predictions_prob.csv', index = False)"
   ]
  }
 ],
 "metadata": {
  "kernelspec": {
   "display_name": "Python 3",
   "language": "python",
   "name": "python3"
  },
  "language_info": {
   "codemirror_mode": {
    "name": "ipython",
    "version": 3
   },
   "file_extension": ".py",
   "mimetype": "text/x-python",
   "name": "python",
   "nbconvert_exporter": "python",
   "pygments_lexer": "ipython3",
   "version": "3.9.5"
  }
 },
 "nbformat": 4,
 "nbformat_minor": 5
}
