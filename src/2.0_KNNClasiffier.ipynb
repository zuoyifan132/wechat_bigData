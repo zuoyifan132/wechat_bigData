{
 "cells": [
  {
   "cell_type": "markdown",
   "id": "06aa1ea8",
   "metadata": {},
   "source": [
    "# KNN Classifier"
   ]
  },
  {
   "cell_type": "code",
   "execution_count": null,
   "id": "32ee99b0",
   "metadata": {},
   "outputs": [],
   "source": [
    "import numpy as np\n",
    "import pandas as pd"
   ]
  },
  {
   "cell_type": "markdown",
   "id": "0af32ecd",
   "metadata": {},
   "source": [
    "## Load Data Files"
   ]
  },
  {
   "cell_type": "code",
   "execution_count": null,
   "id": "01c79939",
   "metadata": {},
   "outputs": [],
   "source": [
    "X_train = pd.read_csv('../wechat_algo_data1/1.1_X_train.csv')\n",
    "y_train = pd.read_csv('../wechat_algo_data1/1.1_y_train.csv')\n",
    "X_test = pd.read_csv('../wechat_algo_data1/1.1_X_test.csv')"
   ]
  },
  {
   "cell_type": "markdown",
   "id": "255d35db",
   "metadata": {},
   "source": [
    "## Train Model"
   ]
  },
  {
   "cell_type": "code",
   "execution_count": null,
   "id": "5a66c3e8",
   "metadata": {},
   "outputs": [],
   "source": [
    "from sklearn.multioutput import MultiOutputClassifier\n",
    "from sklearn.tree import DecisionTreeClassifier"
   ]
  },
  {
   "cell_type": "code",
   "execution_count": null,
   "id": "3f862622",
   "metadata": {},
   "outputs": [],
   "source": [
    "model = MultiOutputClassifier(DecisionTreeClassifier(), n_jobs = -1)"
   ]
  },
  {
   "cell_type": "code",
   "execution_count": null,
   "id": "5cd9c422",
   "metadata": {},
   "outputs": [],
   "source": [
    "%time model.fit(X_train, y_train)"
   ]
  },
  {
   "cell_type": "code",
   "execution_count": null,
   "id": "86e281f4",
   "metadata": {},
   "outputs": [],
   "source": [
    "model.score(X_train, y_train)"
   ]
  },
  {
   "cell_type": "markdown",
   "id": "759bf913",
   "metadata": {},
   "source": [
    "## Make Predictions"
   ]
  },
  {
   "cell_type": "code",
   "execution_count": null,
   "id": "fa9bf496",
   "metadata": {},
   "outputs": [],
   "source": [
    "y_test = model.predict(X_test)"
   ]
  },
  {
   "cell_type": "code",
   "execution_count": null,
   "id": "56926529",
   "metadata": {},
   "outputs": [],
   "source": [
    "y_test = pd.DataFrame(\n",
    "    y_test, \n",
    "    columns = ['read_comment', 'like', 'click_avatar', 'forward']\n",
    ")\n",
    "output_data = pd.concat([X_test[['userid', 'feedid']], y_test], axis = 1)\n",
    "output_data"
   ]
  },
  {
   "cell_type": "code",
   "execution_count": null,
   "id": "f529e3e5",
   "metadata": {},
   "outputs": [],
   "source": [
    "# Predict probabilities\n",
    "probabilities = model.predict_proba(X_test)"
   ]
  },
  {
   "cell_type": "code",
   "execution_count": null,
   "id": "c1654466",
   "metadata": {},
   "outputs": [],
   "source": [
    "prob_df = pd.DataFrame(np.array(probabilities)[:, :, 1]).transpose()\n",
    "prob_df.columns = ['read_comment', 'like', 'click_avatar', 'forward']\n",
    "output_data_prob = pd.concat([X_test[['userid', 'feedid']], prob_df], axis = 1)\n",
    "output_data_prob"
   ]
  },
  {
   "cell_type": "markdown",
   "id": "f92f8e8b",
   "metadata": {},
   "source": [
    "## Save Results to Files"
   ]
  },
  {
   "cell_type": "code",
   "execution_count": null,
   "id": "e7cfd16b",
   "metadata": {},
   "outputs": [],
   "source": [
    "# Save results\n",
    "output_data.to_csv('../predictions/2.0_KNNClassifier_predictions.csv', index = False)\n",
    "output_data_prob.to_csv('../predictions/2.0_KNNClassifier_predictions_prob.csv', index = False)"
   ]
  }
 ],
 "metadata": {
  "kernelspec": {
   "display_name": "Python 3",
   "language": "python",
   "name": "python3"
  },
  "language_info": {
   "codemirror_mode": {
    "name": "ipython",
    "version": 3
   },
   "file_extension": ".py",
   "mimetype": "text/x-python",
   "name": "python",
   "nbconvert_exporter": "python",
   "pygments_lexer": "ipython3",
   "version": "3.9.5"
  }
 },
 "nbformat": 4,
 "nbformat_minor": 5
}
