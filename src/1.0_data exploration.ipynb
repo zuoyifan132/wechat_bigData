{
 "cells": [
  {
   "cell_type": "markdown",
   "id": "b6303cef",
   "metadata": {},
   "source": [
    "# Data Exploration"
   ]
  },
  {
   "cell_type": "code",
   "execution_count": 1,
   "id": "80555ae3",
   "metadata": {},
   "outputs": [],
   "source": [
    "from os import path\n",
    "import numpy as np\n",
    "import pandas as pd\n",
    "import matplotlib.pyplot as plt\n",
    "import seaborn as sns"
   ]
  },
  {
   "cell_type": "code",
   "execution_count": 2,
   "id": "96acf1b2",
   "metadata": {},
   "outputs": [],
   "source": [
    "sns.set()"
   ]
  },
  {
   "cell_type": "markdown",
   "id": "07f857f3",
   "metadata": {},
   "source": [
    "## Load Data Files"
   ]
  },
  {
   "cell_type": "code",
   "execution_count": 3,
   "id": "cbc347cb",
   "metadata": {},
   "outputs": [],
   "source": [
    "data_path = \"../wechat_algo_data1/\"\n",
    "output_path = \"../predictions/\""
   ]
  },
  {
   "cell_type": "code",
   "execution_count": 4,
   "id": "4ff27012",
   "metadata": {},
   "outputs": [],
   "source": [
    "# Training input data\n",
    "feed_info = pd.read_csv(path.join(data_path, 'feed_info.csv'))\n",
    "user_action = pd.read_csv(path.join(data_path, 'user_action.csv'))"
   ]
  },
  {
   "cell_type": "code",
   "execution_count": 5,
   "id": "9ef4108a",
   "metadata": {},
   "outputs": [],
   "source": [
    "# Test data\n",
    "# testing_datafile = 'test_a.csv'   # Practice dataset\n",
    "testing_datafile = 'test_b.csv'   # Actual dataset\n",
    "test_data = pd.read_csv(path.join(data_path, testing_datafile))"
   ]
  },
  {
   "cell_type": "code",
   "execution_count": 6,
   "id": "f6c7e7d8",
   "metadata": {},
   "outputs": [
    {
     "name": "stdout",
     "output_type": "stream",
     "text": [
      "len(feed_info) = 106444\n",
      "len(user_action) = 7317882\n",
      "len(test_data) = 419646\n"
     ]
    }
   ],
   "source": [
    "print(\"len(feed_info) = %d\\nlen(user_action) = %d\\nlen(test_data) = %d\" \\\n",
    "      % (len(feed_info), len(user_action), len(test_data)))"
   ]
  },
  {
   "cell_type": "markdown",
   "id": "22459daa",
   "metadata": {},
   "source": [
    "## Attributes"
   ]
  },
  {
   "cell_type": "code",
   "execution_count": 7,
   "id": "8f3b900a",
   "metadata": {},
   "outputs": [
    {
     "data": {
      "text/html": [
       "<div>\n",
       "<style scoped>\n",
       "    .dataframe tbody tr th:only-of-type {\n",
       "        vertical-align: middle;\n",
       "    }\n",
       "\n",
       "    .dataframe tbody tr th {\n",
       "        vertical-align: top;\n",
       "    }\n",
       "\n",
       "    .dataframe thead th {\n",
       "        text-align: right;\n",
       "    }\n",
       "</style>\n",
       "<table border=\"1\" class=\"dataframe\">\n",
       "  <thead>\n",
       "    <tr style=\"text-align: right;\">\n",
       "      <th></th>\n",
       "      <th>feedid</th>\n",
       "      <th>authorid</th>\n",
       "      <th>videoplayseconds</th>\n",
       "      <th>description</th>\n",
       "      <th>ocr</th>\n",
       "      <th>asr</th>\n",
       "      <th>bgm_song_id</th>\n",
       "      <th>bgm_singer_id</th>\n",
       "      <th>manual_keyword_list</th>\n",
       "      <th>machine_keyword_list</th>\n",
       "      <th>manual_tag_list</th>\n",
       "      <th>machine_tag_list</th>\n",
       "      <th>description_char</th>\n",
       "      <th>ocr_char</th>\n",
       "      <th>asr_char</th>\n",
       "    </tr>\n",
       "  </thead>\n",
       "  <tbody>\n",
       "    <tr>\n",
       "      <th>0</th>\n",
       "      <td>43549</td>\n",
       "      <td>6165</td>\n",
       "      <td>38</td>\n",
       "      <td>104741 122649 8109 117252 65632 23463 118668 4...</td>\n",
       "      <td>139499 59421 82007 142955 27736 83577 52394 11...</td>\n",
       "      <td>142955 27736 83577 103956 32010 34170 89740 90...</td>\n",
       "      <td>19356.0</td>\n",
       "      <td>11703.0</td>\n",
       "      <td>15506;7715;17582</td>\n",
       "      <td>26334;219;25209;7715;18541</td>\n",
       "      <td>81;269;159;6</td>\n",
       "      <td>269 0.8525666;81 0.8525666;8 1.1e-07;306 0.0;2...</td>\n",
       "      <td>26439 5247 6426 3827 1882 26018 20744 22204 30...</td>\n",
       "      <td>25926 8491 13394 2203 26439 6243 33054 16435 1...</td>\n",
       "      <td>2203 26439 6243 33054 16435 16307 17070 24908 ...</td>\n",
       "    </tr>\n",
       "    <tr>\n",
       "      <th>1</th>\n",
       "      <td>77432</td>\n",
       "      <td>9386</td>\n",
       "      <td>60</td>\n",
       "      <td>35753 27736 146603 73055 11794 101761 11794 81...</td>\n",
       "      <td>35753 146603 73055 11794 101761 67496 16933 52...</td>\n",
       "      <td>146739 14368 79290 79213 47366 8109 33194 1198...</td>\n",
       "      <td>NaN</td>\n",
       "      <td>NaN</td>\n",
       "      <td>8199;18322;4243</td>\n",
       "      <td>24078;19924</td>\n",
       "      <td>194;267;159;6</td>\n",
       "      <td>267 0.99293476;194 0.99293476</td>\n",
       "      <td>31010 32495 6243 13923 15360 30483 2709 26084 ...</td>\n",
       "      <td>31010 32495 13923 15360 30483 2709 26084 15160...</td>\n",
       "      <td>7259 20851 5061 26207 17573 17531 15117 20072 ...</td>\n",
       "    </tr>\n",
       "    <tr>\n",
       "      <th>2</th>\n",
       "      <td>12921</td>\n",
       "      <td>2996</td>\n",
       "      <td>15</td>\n",
       "      <td>114413 107973 117252 27736 41035 32715 125374 ...</td>\n",
       "      <td>NaN</td>\n",
       "      <td>NaN</td>\n",
       "      <td>10288.0</td>\n",
       "      <td>11354.0</td>\n",
       "      <td>NaN</td>\n",
       "      <td>11696;6926</td>\n",
       "      <td>202;23;160;6</td>\n",
       "      <td>23 0.64771646;202 0.64771646</td>\n",
       "      <td>27077 10050 27464 20072 26018 6243 21492 14750...</td>\n",
       "      <td>NaN</td>\n",
       "      <td>NaN</td>\n",
       "    </tr>\n",
       "    <tr>\n",
       "      <th>3</th>\n",
       "      <td>34538</td>\n",
       "      <td>12577</td>\n",
       "      <td>18</td>\n",
       "      <td>60473 9864 8109 135558 108803 89307 37630 6481...</td>\n",
       "      <td>39654 95201 22675 49521 135558 108803 89307 37...</td>\n",
       "      <td>7446 47082 37630 99660 9844 113002 9844 113002...</td>\n",
       "      <td>24435.0</td>\n",
       "      <td>13645.0</td>\n",
       "      <td>5454;1197;3727</td>\n",
       "      <td>NaN</td>\n",
       "      <td>328;13;159;6</td>\n",
       "      <td>267 0.21298289;191 0.21298289;8 0.34298885;306...</td>\n",
       "      <td>21489 24672 2223 1882 4956 1545 10424 19791 12...</td>\n",
       "      <td>9015 21209 5026 11192 4956 1545 10424 19791 12...</td>\n",
       "      <td>20825 13395 14765 24513 7305 12837 10337 8885 ...</td>\n",
       "    </tr>\n",
       "    <tr>\n",
       "      <th>4</th>\n",
       "      <td>75414</td>\n",
       "      <td>7185</td>\n",
       "      <td>16</td>\n",
       "      <td>105860 4691 134820 55911 80449 79213 23233 139...</td>\n",
       "      <td>73055 66447 88970</td>\n",
       "      <td>104002 4438 104002 4438</td>\n",
       "      <td>23428.0</td>\n",
       "      <td>10730.0</td>\n",
       "      <td>17083;4123</td>\n",
       "      <td>8058;219;21639;15621;25209</td>\n",
       "      <td>81;269;159;6</td>\n",
       "      <td>269 0.86163938;81 0.86163938</td>\n",
       "      <td>25782 19583 7768 3907 14068 12681 5043 17859 1...</td>\n",
       "      <td>30483 23721 1518 22741 25118</td>\n",
       "      <td>23112 969 23112 969</td>\n",
       "    </tr>\n",
       "  </tbody>\n",
       "</table>\n",
       "</div>"
      ],
      "text/plain": [
       "   feedid  authorid  videoplayseconds  \\\n",
       "0   43549      6165                38   \n",
       "1   77432      9386                60   \n",
       "2   12921      2996                15   \n",
       "3   34538     12577                18   \n",
       "4   75414      7185                16   \n",
       "\n",
       "                                         description  \\\n",
       "0  104741 122649 8109 117252 65632 23463 118668 4...   \n",
       "1  35753 27736 146603 73055 11794 101761 11794 81...   \n",
       "2  114413 107973 117252 27736 41035 32715 125374 ...   \n",
       "3  60473 9864 8109 135558 108803 89307 37630 6481...   \n",
       "4  105860 4691 134820 55911 80449 79213 23233 139...   \n",
       "\n",
       "                                                 ocr  \\\n",
       "0  139499 59421 82007 142955 27736 83577 52394 11...   \n",
       "1  35753 146603 73055 11794 101761 67496 16933 52...   \n",
       "2                                                NaN   \n",
       "3  39654 95201 22675 49521 135558 108803 89307 37...   \n",
       "4                                  73055 66447 88970   \n",
       "\n",
       "                                                 asr  bgm_song_id  \\\n",
       "0  142955 27736 83577 103956 32010 34170 89740 90...      19356.0   \n",
       "1  146739 14368 79290 79213 47366 8109 33194 1198...          NaN   \n",
       "2                                                NaN      10288.0   \n",
       "3  7446 47082 37630 99660 9844 113002 9844 113002...      24435.0   \n",
       "4                            104002 4438 104002 4438      23428.0   \n",
       "\n",
       "   bgm_singer_id manual_keyword_list        machine_keyword_list  \\\n",
       "0        11703.0    15506;7715;17582  26334;219;25209;7715;18541   \n",
       "1            NaN     8199;18322;4243                 24078;19924   \n",
       "2        11354.0                 NaN                  11696;6926   \n",
       "3        13645.0      5454;1197;3727                         NaN   \n",
       "4        10730.0          17083;4123  8058;219;21639;15621;25209   \n",
       "\n",
       "  manual_tag_list                                   machine_tag_list  \\\n",
       "0    81;269;159;6  269 0.8525666;81 0.8525666;8 1.1e-07;306 0.0;2...   \n",
       "1   194;267;159;6                      267 0.99293476;194 0.99293476   \n",
       "2    202;23;160;6                       23 0.64771646;202 0.64771646   \n",
       "3    328;13;159;6  267 0.21298289;191 0.21298289;8 0.34298885;306...   \n",
       "4    81;269;159;6                       269 0.86163938;81 0.86163938   \n",
       "\n",
       "                                    description_char  \\\n",
       "0  26439 5247 6426 3827 1882 26018 20744 22204 30...   \n",
       "1  31010 32495 6243 13923 15360 30483 2709 26084 ...   \n",
       "2  27077 10050 27464 20072 26018 6243 21492 14750...   \n",
       "3  21489 24672 2223 1882 4956 1545 10424 19791 12...   \n",
       "4  25782 19583 7768 3907 14068 12681 5043 17859 1...   \n",
       "\n",
       "                                            ocr_char  \\\n",
       "0  25926 8491 13394 2203 26439 6243 33054 16435 1...   \n",
       "1  31010 32495 13923 15360 30483 2709 26084 15160...   \n",
       "2                                                NaN   \n",
       "3  9015 21209 5026 11192 4956 1545 10424 19791 12...   \n",
       "4                       30483 23721 1518 22741 25118   \n",
       "\n",
       "                                            asr_char  \n",
       "0  2203 26439 6243 33054 16435 16307 17070 24908 ...  \n",
       "1  7259 20851 5061 26207 17573 17531 15117 20072 ...  \n",
       "2                                                NaN  \n",
       "3  20825 13395 14765 24513 7305 12837 10337 8885 ...  \n",
       "4                                23112 969 23112 969  "
      ]
     },
     "execution_count": 7,
     "metadata": {},
     "output_type": "execute_result"
    }
   ],
   "source": [
    "feed_info.head()"
   ]
  },
  {
   "cell_type": "code",
   "execution_count": 8,
   "id": "109a5136",
   "metadata": {},
   "outputs": [
    {
     "data": {
      "text/html": [
       "<div>\n",
       "<style scoped>\n",
       "    .dataframe tbody tr th:only-of-type {\n",
       "        vertical-align: middle;\n",
       "    }\n",
       "\n",
       "    .dataframe tbody tr th {\n",
       "        vertical-align: top;\n",
       "    }\n",
       "\n",
       "    .dataframe thead th {\n",
       "        text-align: right;\n",
       "    }\n",
       "</style>\n",
       "<table border=\"1\" class=\"dataframe\">\n",
       "  <thead>\n",
       "    <tr style=\"text-align: right;\">\n",
       "      <th></th>\n",
       "      <th>userid</th>\n",
       "      <th>feedid</th>\n",
       "      <th>date_</th>\n",
       "      <th>device</th>\n",
       "      <th>read_comment</th>\n",
       "      <th>comment</th>\n",
       "      <th>like</th>\n",
       "      <th>play</th>\n",
       "      <th>stay</th>\n",
       "      <th>click_avatar</th>\n",
       "      <th>forward</th>\n",
       "      <th>follow</th>\n",
       "      <th>favorite</th>\n",
       "    </tr>\n",
       "  </thead>\n",
       "  <tbody>\n",
       "    <tr>\n",
       "      <th>0</th>\n",
       "      <td>8</td>\n",
       "      <td>71474</td>\n",
       "      <td>1</td>\n",
       "      <td>1</td>\n",
       "      <td>0</td>\n",
       "      <td>0</td>\n",
       "      <td>1</td>\n",
       "      <td>500</td>\n",
       "      <td>5366</td>\n",
       "      <td>0</td>\n",
       "      <td>0</td>\n",
       "      <td>0</td>\n",
       "      <td>0</td>\n",
       "    </tr>\n",
       "    <tr>\n",
       "      <th>1</th>\n",
       "      <td>8</td>\n",
       "      <td>73916</td>\n",
       "      <td>1</td>\n",
       "      <td>1</td>\n",
       "      <td>0</td>\n",
       "      <td>0</td>\n",
       "      <td>0</td>\n",
       "      <td>250</td>\n",
       "      <td>1533</td>\n",
       "      <td>0</td>\n",
       "      <td>0</td>\n",
       "      <td>0</td>\n",
       "      <td>0</td>\n",
       "    </tr>\n",
       "    <tr>\n",
       "      <th>2</th>\n",
       "      <td>8</td>\n",
       "      <td>50282</td>\n",
       "      <td>1</td>\n",
       "      <td>1</td>\n",
       "      <td>0</td>\n",
       "      <td>0</td>\n",
       "      <td>0</td>\n",
       "      <td>750</td>\n",
       "      <td>1302</td>\n",
       "      <td>0</td>\n",
       "      <td>0</td>\n",
       "      <td>0</td>\n",
       "      <td>0</td>\n",
       "    </tr>\n",
       "    <tr>\n",
       "      <th>3</th>\n",
       "      <td>8</td>\n",
       "      <td>11391</td>\n",
       "      <td>1</td>\n",
       "      <td>1</td>\n",
       "      <td>0</td>\n",
       "      <td>0</td>\n",
       "      <td>1</td>\n",
       "      <td>3750</td>\n",
       "      <td>5191</td>\n",
       "      <td>0</td>\n",
       "      <td>0</td>\n",
       "      <td>0</td>\n",
       "      <td>0</td>\n",
       "    </tr>\n",
       "    <tr>\n",
       "      <th>4</th>\n",
       "      <td>8</td>\n",
       "      <td>27349</td>\n",
       "      <td>1</td>\n",
       "      <td>1</td>\n",
       "      <td>0</td>\n",
       "      <td>0</td>\n",
       "      <td>0</td>\n",
       "      <td>250</td>\n",
       "      <td>800</td>\n",
       "      <td>0</td>\n",
       "      <td>0</td>\n",
       "      <td>0</td>\n",
       "      <td>0</td>\n",
       "    </tr>\n",
       "  </tbody>\n",
       "</table>\n",
       "</div>"
      ],
      "text/plain": [
       "   userid  feedid  date_  device  read_comment  comment  like  play  stay  \\\n",
       "0       8   71474      1       1             0        0     1   500  5366   \n",
       "1       8   73916      1       1             0        0     0   250  1533   \n",
       "2       8   50282      1       1             0        0     0   750  1302   \n",
       "3       8   11391      1       1             0        0     1  3750  5191   \n",
       "4       8   27349      1       1             0        0     0   250   800   \n",
       "\n",
       "   click_avatar  forward  follow  favorite  \n",
       "0             0        0       0         0  \n",
       "1             0        0       0         0  \n",
       "2             0        0       0         0  \n",
       "3             0        0       0         0  \n",
       "4             0        0       0         0  "
      ]
     },
     "execution_count": 8,
     "metadata": {},
     "output_type": "execute_result"
    }
   ],
   "source": [
    "user_action.head()"
   ]
  },
  {
   "cell_type": "code",
   "execution_count": 9,
   "id": "e65df55a",
   "metadata": {},
   "outputs": [
    {
     "data": {
      "text/html": [
       "<div>\n",
       "<style scoped>\n",
       "    .dataframe tbody tr th:only-of-type {\n",
       "        vertical-align: middle;\n",
       "    }\n",
       "\n",
       "    .dataframe tbody tr th {\n",
       "        vertical-align: top;\n",
       "    }\n",
       "\n",
       "    .dataframe thead th {\n",
       "        text-align: right;\n",
       "    }\n",
       "</style>\n",
       "<table border=\"1\" class=\"dataframe\">\n",
       "  <thead>\n",
       "    <tr style=\"text-align: right;\">\n",
       "      <th></th>\n",
       "      <th>userid</th>\n",
       "      <th>feedid</th>\n",
       "      <th>device</th>\n",
       "    </tr>\n",
       "  </thead>\n",
       "  <tbody>\n",
       "    <tr>\n",
       "      <th>0</th>\n",
       "      <td>116490</td>\n",
       "      <td>18545</td>\n",
       "      <td>2</td>\n",
       "    </tr>\n",
       "    <tr>\n",
       "      <th>1</th>\n",
       "      <td>19265</td>\n",
       "      <td>53010</td>\n",
       "      <td>2</td>\n",
       "    </tr>\n",
       "    <tr>\n",
       "      <th>2</th>\n",
       "      <td>194374</td>\n",
       "      <td>9003</td>\n",
       "      <td>1</td>\n",
       "    </tr>\n",
       "    <tr>\n",
       "      <th>3</th>\n",
       "      <td>19414</td>\n",
       "      <td>75730</td>\n",
       "      <td>2</td>\n",
       "    </tr>\n",
       "    <tr>\n",
       "      <th>4</th>\n",
       "      <td>6434</td>\n",
       "      <td>17863</td>\n",
       "      <td>2</td>\n",
       "    </tr>\n",
       "  </tbody>\n",
       "</table>\n",
       "</div>"
      ],
      "text/plain": [
       "   userid  feedid  device\n",
       "0  116490   18545       2\n",
       "1   19265   53010       2\n",
       "2  194374    9003       1\n",
       "3   19414   75730       2\n",
       "4    6434   17863       2"
      ]
     },
     "execution_count": 9,
     "metadata": {},
     "output_type": "execute_result"
    }
   ],
   "source": [
    "test_data.head()"
   ]
  },
  {
   "cell_type": "markdown",
   "id": "86b460fa",
   "metadata": {},
   "source": [
    "## Missing Values"
   ]
  },
  {
   "cell_type": "code",
   "execution_count": 10,
   "id": "526f5628",
   "metadata": {},
   "outputs": [
    {
     "data": {
      "text/html": [
       "<div>\n",
       "<style scoped>\n",
       "    .dataframe tbody tr th:only-of-type {\n",
       "        vertical-align: middle;\n",
       "    }\n",
       "\n",
       "    .dataframe tbody tr th {\n",
       "        vertical-align: top;\n",
       "    }\n",
       "\n",
       "    .dataframe thead th {\n",
       "        text-align: right;\n",
       "    }\n",
       "</style>\n",
       "<table border=\"1\" class=\"dataframe\">\n",
       "  <thead>\n",
       "    <tr style=\"text-align: right;\">\n",
       "      <th></th>\n",
       "      <th>total</th>\n",
       "      <th>percentage</th>\n",
       "    </tr>\n",
       "  </thead>\n",
       "  <tbody>\n",
       "    <tr>\n",
       "      <th>feedid</th>\n",
       "      <td>0</td>\n",
       "      <td>0.000000</td>\n",
       "    </tr>\n",
       "    <tr>\n",
       "      <th>authorid</th>\n",
       "      <td>0</td>\n",
       "      <td>0.000000</td>\n",
       "    </tr>\n",
       "    <tr>\n",
       "      <th>videoplayseconds</th>\n",
       "      <td>0</td>\n",
       "      <td>0.000000</td>\n",
       "    </tr>\n",
       "    <tr>\n",
       "      <th>description</th>\n",
       "      <td>3358</td>\n",
       "      <td>0.031547</td>\n",
       "    </tr>\n",
       "    <tr>\n",
       "      <th>ocr</th>\n",
       "      <td>29606</td>\n",
       "      <td>0.278137</td>\n",
       "    </tr>\n",
       "    <tr>\n",
       "      <th>asr</th>\n",
       "      <td>27402</td>\n",
       "      <td>0.257431</td>\n",
       "    </tr>\n",
       "    <tr>\n",
       "      <th>bgm_song_id</th>\n",
       "      <td>52982</td>\n",
       "      <td>0.497745</td>\n",
       "    </tr>\n",
       "    <tr>\n",
       "      <th>bgm_singer_id</th>\n",
       "      <td>52982</td>\n",
       "      <td>0.497745</td>\n",
       "    </tr>\n",
       "    <tr>\n",
       "      <th>manual_keyword_list</th>\n",
       "      <td>35224</td>\n",
       "      <td>0.330916</td>\n",
       "    </tr>\n",
       "    <tr>\n",
       "      <th>machine_keyword_list</th>\n",
       "      <td>16757</td>\n",
       "      <td>0.157426</td>\n",
       "    </tr>\n",
       "    <tr>\n",
       "      <th>manual_tag_list</th>\n",
       "      <td>1016</td>\n",
       "      <td>0.009545</td>\n",
       "    </tr>\n",
       "    <tr>\n",
       "      <th>machine_tag_list</th>\n",
       "      <td>534</td>\n",
       "      <td>0.005017</td>\n",
       "    </tr>\n",
       "    <tr>\n",
       "      <th>description_char</th>\n",
       "      <td>3337</td>\n",
       "      <td>0.031350</td>\n",
       "    </tr>\n",
       "    <tr>\n",
       "      <th>ocr_char</th>\n",
       "      <td>29876</td>\n",
       "      <td>0.280673</td>\n",
       "    </tr>\n",
       "    <tr>\n",
       "      <th>asr_char</th>\n",
       "      <td>27402</td>\n",
       "      <td>0.257431</td>\n",
       "    </tr>\n",
       "  </tbody>\n",
       "</table>\n",
       "</div>"
      ],
      "text/plain": [
       "                      total  percentage\n",
       "feedid                    0    0.000000\n",
       "authorid                  0    0.000000\n",
       "videoplayseconds          0    0.000000\n",
       "description            3358    0.031547\n",
       "ocr                   29606    0.278137\n",
       "asr                   27402    0.257431\n",
       "bgm_song_id           52982    0.497745\n",
       "bgm_singer_id         52982    0.497745\n",
       "manual_keyword_list   35224    0.330916\n",
       "machine_keyword_list  16757    0.157426\n",
       "manual_tag_list        1016    0.009545\n",
       "machine_tag_list        534    0.005017\n",
       "description_char       3337    0.031350\n",
       "ocr_char              29876    0.280673\n",
       "asr_char              27402    0.257431"
      ]
     },
     "execution_count": 10,
     "metadata": {},
     "output_type": "execute_result"
    }
   ],
   "source": [
    "# Number of missing in each column\n",
    "feed_info_missing = pd.DataFrame(feed_info.isnull().sum()).rename(columns = {0: 'total'})\n",
    "\n",
    "# Create a percentage missing\n",
    "feed_info_missing['percentage'] = feed_info_missing['total'] / len(feed_info)\n",
    "feed_info_missing"
   ]
  },
  {
   "cell_type": "markdown",
   "id": "6c6d8390",
   "metadata": {},
   "source": [
    "## Histograms"
   ]
  },
  {
   "cell_type": "markdown",
   "id": "cf43d513",
   "metadata": {},
   "source": [
    "### Distributions of non-NaN 'bgm_song_id' and 'bgm_singer_id'"
   ]
  },
  {
   "cell_type": "code",
   "execution_count": 11,
   "id": "38fa0054",
   "metadata": {},
   "outputs": [],
   "source": [
    "notNaN_song = feed_info[~feed_info['bgm_song_id'].isna()]['bgm_song_id']\n",
    "notNaN_singer = feed_info[~feed_info['bgm_singer_id'].isna()]['bgm_singer_id']"
   ]
  },
  {
   "cell_type": "code",
   "execution_count": 12,
   "id": "cc616142",
   "metadata": {},
   "outputs": [
    {
     "data": {
      "image/png": "[encoded data removed]",
      "text/plain": [
       "<Figure size 432x288 with 1 Axes>"
      ]
     },
     "metadata": {},
     "output_type": "display_data"
    }
   ],
   "source": [
    "# bgm_song_id\n",
    "plt.hist(notNaN_song);"
   ]
  },
  {
   "cell_type": "code",
   "execution_count": 13,
   "id": "5ed33429",
   "metadata": {},
   "outputs": [
    {
     "data": {
      "image/png": "[encoded data removed]",
      "text/plain": [
       "<Figure size 432x288 with 1 Axes>"
      ]
     },
     "metadata": {},
     "output_type": "display_data"
    }
   ],
   "source": [
    "# bgm_singer_id\n",
    "plt.hist(notNaN_singer);"
   ]
  },
  {
   "cell_type": "markdown",
   "id": "e89d9ac4",
   "metadata": {},
   "source": [
    "### Distribution of 'date_'"
   ]
  },
  {
   "cell_type": "code",
   "execution_count": 14,
   "id": "42ec1e4d",
   "metadata": {},
   "outputs": [
    {
     "data": {
      "text/plain": [
       "11    614175\n",
       "14    609036\n",
       "10    596886\n",
       "13    566627\n",
       "3     543566\n",
       "12    532038\n",
       "9     512466\n",
       "4     504623\n",
       "8     500120\n",
       "7     480460\n",
       "1     478489\n",
       "6     472726\n",
       "2     461842\n",
       "5     444828\n",
       "Name: date_, dtype: int64"
      ]
     },
     "execution_count": 14,
     "metadata": {},
     "output_type": "execute_result"
    }
   ],
   "source": [
    "user_action['date_'].value_counts()"
   ]
  },
  {
   "cell_type": "code",
   "execution_count": 15,
   "id": "ca623d91",
   "metadata": {},
   "outputs": [
    {
     "data": {
      "image/png": "[encoded data removed]",
      "text/plain": [
       "<Figure size 432x288 with 1 Axes>"
      ]
     },
     "metadata": {},
     "output_type": "display_data"
    }
   ],
   "source": [
    "plt.hist(user_action['date_']);"
   ]
  },
  {
   "cell_type": "markdown",
   "id": "a18606b2",
   "metadata": {},
   "source": [
    "### Distributions of 'play' and 'stay'"
   ]
  },
  {
   "cell_type": "code",
   "execution_count": 16,
   "id": "6bfbec5e",
   "metadata": {},
   "outputs": [
    {
     "data": {
      "image/png": "[encoded data removed]",
      "text/plain": [
       "<Figure size 432x288 with 1 Axes>"
      ]
     },
     "metadata": {},
     "output_type": "display_data"
    }
   ],
   "source": [
    "plt.hist(np.log(user_action['play'] + 1), bins = 60);"
   ]
  },
  {
   "cell_type": "code",
   "execution_count": 17,
   "id": "8135c02f",
   "metadata": {},
   "outputs": [
    {
     "data": {
      "image/png": "[encoded data removed]",
      "text/plain": [
       "<Figure size 432x288 with 1 Axes>"
      ]
     },
     "metadata": {},
     "output_type": "display_data"
    }
   ],
   "source": [
    "plt.hist(np.log(user_action['stay'] + 1), bins = 60);"
   ]
  }
 ],
 "metadata": {
  "kernelspec": {
   "display_name": "Python 3",
   "language": "python",
   "name": "python3"
  },
  "language_info": {
   "codemirror_mode": {
    "name": "ipython",
    "version": 3
   },
   "file_extension": ".py",
   "mimetype": "text/x-python",
   "name": "python",
   "nbconvert_exporter": "python",
   "pygments_lexer": "ipython3",
   "version": "3.9.5"
  }
 },
 "nbformat": 4,
 "nbformat_minor": 5
}
